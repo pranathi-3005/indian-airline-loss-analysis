{
 "cells": [
  {
   "cell_type": "markdown",
   "id": "7edfa88d-adda-4e1b-bbdc-8487e78f9194",
   "metadata": {},
   "source": [
    "# Month-wise trends using line graphs for top 3 loss making airlines\n"
   ]
  },
  {
   "cell_type": "code",
   "execution_count": null,
   "id": "b260c0b7-3742-451f-9bc7-62c25bba99a1",
   "metadata": {},
   "outputs": [],
   "source": []
  }
 ],
 "metadata": {
  "kernelspec": {
   "display_name": "",
   "name": ""
  },
  "language_info": {
   "name": ""
  }
 },
 "nbformat": 4,
 "nbformat_minor": 5
}
